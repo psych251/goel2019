{
 "cells": [
  {
   "cell_type": "markdown",
   "metadata": {},
   "source": [
    "<!--\n",
    "---\n",
    "title: \"Replication of Study X by Sample & Sample (200x, Psychological Science)\"\n",
    "author: \"Replication Author[s] (contact information)\"\n",
    "date: \"`r format(Sys.time(), '%B %d, %Y')`\"\n",
    "output:\n",
    "  html_document:\n",
    "    toc: yes\n",
    "    toc_depth: 3\n",
    "    toc_float:\n",
    "      collapsed: false\n",
    "---\n",
    "-->\n",
    "# Replication of Experiment Data Analysis by Parades et. al. (submission to CHI 2020) #\n",
    "\n",
    "## Author: Jackie Yang (jackiey@stanford.edu) ##\n",
    "\n",
    "<!-- Replication reports should all use this template to standardize reporting across projects.  These reports will be public supplementary materials that accompany the summary report(s) of the aggregate results. -->\n",
    "\n",
    "\n"
   ]
  },
  {
   "cell_type": "markdown",
   "metadata": {},
   "source": [
    "## Introduction\n",
    "\n",
    "This paper is one of the first attempt at using touchpad data to predict the user's stress. This project extract muscle stiffness derived from biomechanical models of the user's movement from laptop touchpad operations while preforming predefined tasks to investigate the correlation with the user's stress. I also have a on-going project that uses deeplearning to directly infer user's stress from the trackpad data, therefore, I think it would be helpful if I can replicate their anlaysis.\n",
    "\n",
    "Since the data collection process, which requires the physical presence of the user and expensive equipment, is quite hard to replicate, and the data analysis involves complex operations (deduct parameters from biomechanical models), I will do a replication of the data processing in this paper.\n",
    "\n",
    "## Methods\n",
    "\n",
    "<!--\n",
    "###Power Analysis\n",
    "\\\n",
    "Original effect size, power analysis for samples to achieve 80%, 90%, 95% power to detect that effect size.  Considerations of feasibility for selecting planned sample size.\n",
    "\\\n",
    "###Planned Sample\n",
    "\\\n",
    "Planned sample size and/or termination rule, sampling frame, known demographics if any, preselection rules if any.\n",
    "\\\n",
    "###Materials\n",
    "\\\n",
    "All materials - can quote directly from original article - just put the text in quotations and note that this was followed precisely.  Or, quote directly and just point out exceptions to what was described in the original article.\n",
    "-->\n",
    "### Procedure\t\n",
    "\n",
    "I will not replicate this, but this is the procedure the data is gathered in the original paper:\n",
    "\n",
    "The experiment contained four distinct phases:\n",
    "+ Relaxation phase - a five minute destressor task designed to normalize the effects of external factors and to destress the participant towards baseline levels\n",
    "+ tRelaxed phase - a ten minute phase taking place immediately after the Relaxation phase. The subject performs a series of computer tasks using the laptop trackpad. Task orders within each category (clicking, dragging, steering) are fully randomized.\n",
    "+ Stressor phase - a five minute stress-inducing task.\n",
    "+ tStressed phase - a ten minute phase taking place immediately after the stressor phase. The subject performs a series of computer tasks using the laptop trackpad. Task orders within each category (clicking, dragging, steering) are fully randomized.\n",
    "To control for order effects, subjects were assigned to one of two orders of the stressed-relaxed task pairs (see Figure 3 ). The experimental groups for each protocol were balanced by gender, with 5 males and 6 females completing each protocol.\n",
    "\n",
    "![../figures/normal%20precedure.png](../figures/normal%20precedure.png)\n",
    "\n",
    "![../figures/counterbalance%20precedure.png](../figures/counterbalance%20precedure.png)\n",
    "\n",
    "### Analysis Plan\n",
    "\n",
    "I will start from the raw data collected from each experiment, including the raw trackpad data throughout the whole experiment, and a separate file recording the division of each session in the experiment.\n",
    "The trackpad file contains a time-series data with position, area of contact, the shape of contact of all the fingers in contact with the trackpad at that time.\n",
    "The other file contains the start and end timestamp of each trial and the start and end timestamp of each stressed or not stressed condition.\n",
    "\n",
    "I will perform all the data segmentation, cleaning to extract a single stream of finger events for each trial.\n",
    "From the finger events, I will perform multiple different analyses as described in the paper.\n",
    "Then I will compare the results of that analysis between different conditions and different experiments.\n",
    "I will perform all the statistical analysis and recreate all the figures in that paper.\n",
    "\n",
    "### Differences from Original Study\n",
    "\n",
    "There is no known difference from the original study.\n",
    "\n",
    "### Anticipated Challenges\n",
    "\n",
    "The largest challenge is that I'm not familiar with those bio-mechanical models, but the programming should be within my capability.\n",
    "\n",
    "## Links\n",
    "\n",
    "**Repo:** https://github.com/psych251/paredes2019/\n",
    "\n",
    "**Original Paper:** https://github.com/psych251/paredes2019/blob/wip/original_paper/paredes_2019.pdf\n"
   ]
  },
  {
   "cell_type": "markdown",
   "metadata": {},
   "source": [
    "## Results\n",
    "\n",
    "### Data preparation\n",
    "Data preparation following the analysis plan.\n",
    "\n",
    "Touchpad data:\n",
    "+ Associate touchpad data with corresponding experiment\n",
    "+ Separate the touch point-timestamp tuples into movements (list of consecutive touch point-timestamp tuples)\n",
    "+ Remove very short finger movements and \"static\" finger movements (movements with low variation in position over time)\n",
    "+ Run a low-pass filter on the movement data\n",
    "\n",
    "Self-reported stress data:\n",
    "+ Associate report data with the corresponding condition\n"
   ]
  },
  {
   "cell_type": "markdown",
   "source": [
    "Update: Fixed unit in area of contact"
   ],
   "metadata": {
    "collapsed": false,
    "pycharm": {
     "name": "#%% md\n"
    }
   }
  },
  {
   "cell_type": "code",
   "execution_count": 1,
   "metadata": {
    "pycharm": {
     "is_executing": false
    }
   },
   "outputs": [],
   "source": [
    "import pandas\n",
    "from matplotlib import pyplot as plt\n",
    "from replication.common import TaskType\n",
    "from replication.load_data import load_data\n",
    "\n",
    "from replication.preprocess.user import User"
   ]
  },
  {
   "cell_type": "code",
   "execution_count": 2,
   "outputs": [],
   "source": [
    "user_data = User(\"../original_data/data/raw_data/A2/\", \"A2\")"
   ],
   "metadata": {
    "collapsed": false,
    "pycharm": {
     "name": "#%%\n",
     "is_executing": false
    }
   }
  },
  {
   "cell_type": "code",
   "execution_count": 3,
   "outputs": [
    {
     "data": {
      "text/plain": "  page_name      task_type  width  height         start        finish\n0    0.html  TaskType.DRAG    512      64  1.568229e+09  1.568229e+09\n1    1.html  TaskType.DRAG    512       8  1.568229e+09  1.568229e+09\n2    2.html  TaskType.DRAG    256      64  1.568229e+09  1.568229e+09\n3    3.html  TaskType.DRAG   1024      32  1.568229e+09  1.568229e+09\n4    4.html  TaskType.DRAG    512      64  1.568229e+09  1.568229e+09",
      "text/html": "<div>\n<style scoped>\n    .dataframe tbody tr th:only-of-type {\n        vertical-align: middle;\n    }\n\n    .dataframe tbody tr th {\n        vertical-align: top;\n    }\n\n    .dataframe thead th {\n        text-align: right;\n    }\n</style>\n<table border=\"1\" class=\"dataframe\">\n  <thead>\n    <tr style=\"text-align: right;\">\n      <th></th>\n      <th>page_name</th>\n      <th>task_type</th>\n      <th>width</th>\n      <th>height</th>\n      <th>start</th>\n      <th>finish</th>\n    </tr>\n  </thead>\n  <tbody>\n    <tr>\n      <th>0</th>\n      <td>0.html</td>\n      <td>TaskType.DRAG</td>\n      <td>512</td>\n      <td>64</td>\n      <td>1.568229e+09</td>\n      <td>1.568229e+09</td>\n    </tr>\n    <tr>\n      <th>1</th>\n      <td>1.html</td>\n      <td>TaskType.DRAG</td>\n      <td>512</td>\n      <td>8</td>\n      <td>1.568229e+09</td>\n      <td>1.568229e+09</td>\n    </tr>\n    <tr>\n      <th>2</th>\n      <td>2.html</td>\n      <td>TaskType.DRAG</td>\n      <td>256</td>\n      <td>64</td>\n      <td>1.568229e+09</td>\n      <td>1.568229e+09</td>\n    </tr>\n    <tr>\n      <th>3</th>\n      <td>3.html</td>\n      <td>TaskType.DRAG</td>\n      <td>1024</td>\n      <td>32</td>\n      <td>1.568229e+09</td>\n      <td>1.568229e+09</td>\n    </tr>\n    <tr>\n      <th>4</th>\n      <td>4.html</td>\n      <td>TaskType.DRAG</td>\n      <td>512</td>\n      <td>64</td>\n      <td>1.568229e+09</td>\n      <td>1.568229e+09</td>\n    </tr>\n  </tbody>\n</table>\n</div>"
     },
     "metadata": {},
     "output_type": "execute_result",
     "execution_count": 3
    }
   ],
   "source": [
    "tasks = pandas.DataFrame([vars(task) for task in user_data.stressed_condition.tasks], \n",
    "                         columns=[\"page_name\", \"task_type\", \"width\", \"height\", \"start\", \"finish\"])\n",
    "tasks.head()"
   ],
   "metadata": {
    "collapsed": false,
    "pycharm": {
     "name": "#%%\n",
     "is_executing": false
    }
   }
  },
  {
   "cell_type": "code",
   "execution_count": 4,
   "outputs": [
    {
     "data": {
      "text/plain": "           time  press   pos      x      y  x_speed  y_speed  major_axis  \\\n0  1.568229e+09    4.0  12.0 -31.72  -2.03     0.00     0.12        9.88   \n1  1.568229e+09    4.0   2.0  -4.24  36.63    42.38    -8.50       11.41   \n2  1.568229e+09    4.0  12.0 -31.72  -2.03     0.38     0.00        9.98   \n3  1.568229e+09    4.0   2.0  -3.90  36.56    43.12    -8.75       11.42   \n4  1.568229e+09    4.0  12.0 -31.72  -2.03    -0.12     0.00       10.05   \n\n   minor_axis  contact_area  \n0        6.99         0.867  \n1        9.06         1.062  \n2        6.99         0.871  \n3        8.96         1.062  \n4        6.99         0.871  ",
      "text/html": "<div>\n<style scoped>\n    .dataframe tbody tr th:only-of-type {\n        vertical-align: middle;\n    }\n\n    .dataframe tbody tr th {\n        vertical-align: top;\n    }\n\n    .dataframe thead th {\n        text-align: right;\n    }\n</style>\n<table border=\"1\" class=\"dataframe\">\n  <thead>\n    <tr style=\"text-align: right;\">\n      <th></th>\n      <th>time</th>\n      <th>press</th>\n      <th>pos</th>\n      <th>x</th>\n      <th>y</th>\n      <th>x_speed</th>\n      <th>y_speed</th>\n      <th>major_axis</th>\n      <th>minor_axis</th>\n      <th>contact_area</th>\n    </tr>\n  </thead>\n  <tbody>\n    <tr>\n      <th>0</th>\n      <td>1.568229e+09</td>\n      <td>4.0</td>\n      <td>12.0</td>\n      <td>-31.72</td>\n      <td>-2.03</td>\n      <td>0.00</td>\n      <td>0.12</td>\n      <td>9.88</td>\n      <td>6.99</td>\n      <td>0.867</td>\n    </tr>\n    <tr>\n      <th>1</th>\n      <td>1.568229e+09</td>\n      <td>4.0</td>\n      <td>2.0</td>\n      <td>-4.24</td>\n      <td>36.63</td>\n      <td>42.38</td>\n      <td>-8.50</td>\n      <td>11.41</td>\n      <td>9.06</td>\n      <td>1.062</td>\n    </tr>\n    <tr>\n      <th>2</th>\n      <td>1.568229e+09</td>\n      <td>4.0</td>\n      <td>12.0</td>\n      <td>-31.72</td>\n      <td>-2.03</td>\n      <td>0.38</td>\n      <td>0.00</td>\n      <td>9.98</td>\n      <td>6.99</td>\n      <td>0.871</td>\n    </tr>\n    <tr>\n      <th>3</th>\n      <td>1.568229e+09</td>\n      <td>4.0</td>\n      <td>2.0</td>\n      <td>-3.90</td>\n      <td>36.56</td>\n      <td>43.12</td>\n      <td>-8.75</td>\n      <td>11.42</td>\n      <td>8.96</td>\n      <td>1.062</td>\n    </tr>\n    <tr>\n      <th>4</th>\n      <td>1.568229e+09</td>\n      <td>4.0</td>\n      <td>12.0</td>\n      <td>-31.72</td>\n      <td>-2.03</td>\n      <td>-0.12</td>\n      <td>0.00</td>\n      <td>10.05</td>\n      <td>6.99</td>\n      <td>0.871</td>\n    </tr>\n  </tbody>\n</table>\n</div>"
     },
     "metadata": {},
     "output_type": "execute_result",
     "execution_count": 4
    }
   ],
   "source": [
    "moves = user_data.stressed_condition.tasks[0].track_pad_df\n",
    "moves.head()"
   ],
   "metadata": {
    "collapsed": false,
    "pycharm": {
     "name": "#%%\n",
     "is_executing": false
    }
   }
  },
  {
   "cell_type": "code",
   "execution_count": 5,
   "outputs": [
    {
     "data": {
      "text/plain": "<Figure size 432x288 with 1 Axes>",
      "image/png": "[encoded data removed]"
     },
     "metadata": {
      "needs_background": "light"
     },
     "output_type": "display_data"
    },
    {
     "data": {
      "text/plain": "<Figure size 432x288 with 0 Axes>"
     },
     "metadata": {},
     "output_type": "display_data"
    }
   ],
   "source": [
    "axis = plt.gca()\n",
    "user_data.stressed_condition.tasks[0].draw_moves(axis)\n",
    "plt.show()\n",
    "plt.clf()"
   ],
   "metadata": {
    "collapsed": false,
    "pycharm": {
     "name": "#%%\n",
     "is_executing": false
    }
   }
  },
  {
   "cell_type": "markdown",
   "metadata": {},
   "source": [
    "### Confirmatory analysis\n",
    "\n",
    "<!--I will run t-test on the relaxed and stressed conditions and compute Cohan's effect size (d).-->\n"
   ]
  },
  {
   "cell_type": "markdown",
   "metadata": {},
   "source": [
    "<!--![../figures/srs.png](../figures/srs.png)-->"
   ]
  },
  {
   "cell_type": "markdown",
   "metadata": {},
   "source": [
    "I will run t-test on average area for the relaxed and stressed condition and compute Cohan's effect size (d)."
   ]
  },
  {
   "cell_type": "code",
   "execution_count": 6,
   "metadata": {
    "pycharm": {
     "is_executing": false
    }
   },
   "outputs": [],
   "source": [
    "users = load_data(\"../original_data/data/raw_data/\")\n",
    "\n",
    "stressed_means = []\n",
    "unstressed_means = []\n",
    "\n",
    "for user in users:\n",
    "    for task in user.stressed_condition.tasks:\n",
    "        if task.task_type == TaskType.CLICK:\n",
    "            stressed_means += [task.track_pad_df.contact_area.mean() * 320]\n",
    "\n",
    "    for task in user.unstressed_condition.tasks:\n",
    "        if task.task_type == TaskType.CLICK:\n",
    "            unstressed_means += [task.track_pad_df.contact_area.mean() * 320]"
   ]
  },
  {
   "cell_type": "code",
   "execution_count": 7,
   "outputs": [],
   "source": [
    "import numpy as np\n",
    "\n",
    "stressed_means_np = np.array(stressed_means)\n",
    "unstressed_means_np = np.array(unstressed_means)\n",
    "\n",
    "filtered_stressed_means_np = stressed_means_np[~np.isnan(stressed_means_np)]\n",
    "filtered_unstressed_means_np = unstressed_means_np[~np.isnan(unstressed_means_np)] "
   ],
   "metadata": {
    "collapsed": false,
    "pycharm": {
     "name": "#%%\n",
     "is_executing": false
    }
   }
  },
  {
   "cell_type": "code",
   "execution_count": 8,
   "outputs": [],
   "source": [
    "import pandas\n",
    "\n",
    "stressed_count = len(filtered_stressed_means_np)\n",
    "unstressed_count = len(filtered_unstressed_means_np)\n",
    "df = pandas.DataFrame({\n",
    "    'condition':\n",
    "        [\"stressed\"] * stressed_count +\n",
    "        [\"unstressed\"] * unstressed_count,\n",
    "    'average area':\n",
    "        filtered_stressed_means_np.tolist() +\n",
    "        filtered_unstressed_means_np.tolist()\n",
    "})"
   ],
   "metadata": {
    "collapsed": false,
    "pycharm": {
     "name": "#%%\n",
     "is_executing": false
    }
   }
  },
  {
   "cell_type": "code",
   "execution_count": 9,
   "outputs": [
    {
     "data": {
      "text/plain": "<Figure size 360x216 with 1 Axes>",
      "image/png": "[encoded data removed]"
     },
     "metadata": {},
     "output_type": "display_data"
    }
   ],
   "source": [
    "import seaborn as sns\n",
    "import matplotlib.pyplot as plt\n",
    "\n",
    "sns.set()\n",
    "plt.figure(figsize=(5, 3))\n",
    "\n",
    "plot = sns.barplot(x='condition', y='average area', data=df)\n"
   ],
   "metadata": {
    "collapsed": false,
    "pycharm": {
     "name": "#%%\n",
     "is_executing": false
    }
   }
  },
  {
   "cell_type": "markdown",
   "metadata": {},
   "source": [
    "![../figures/aa.png](../figures/aa.png)"
   ]
  },
  {
   "cell_type": "markdown",
   "metadata": {},
   "source": [
    "### Exploratory analyses\n",
    "\n",
    "I will try to run a machine learning algorithm on the collected finger movement traces and see if I can get a stronger predictor on the user's stress."
   ]
  },
  {
   "cell_type": "markdown",
   "metadata": {},
   "source": [
    "<!--\n",
    "\\\n",
    "### Methods Addendum (Post Data Collection)\n",
    "\\\n",
    "You can comment this section out prior to final report with data collection.\n",
    "\\\n",
    "#### Actual Sample\n",
    "  Sample size, demographics, data exclusions based on rules spelled out in analysis plan\n",
    "\\\n",
    "#### Differences from pre-data collection methods plan\n",
    "  Any differences from what was described as the original plan, or “none”.\n",
    "\\\n",
    "\\\n",
    "##Results\n",
    "\\\n",
    "\\\n",
    "### Data preparation\n",
    "\\\n",
    "Data preparation following the analysis plan.\n",
    "\t\\\n",
    "```{r include=F}\n",
    "###Data Preparation\n",
    "\\\n",
    "####Load Relevant Libraries and Functions\n",
    "\\\n",
    "####Import data\n",
    "\\\n",
    "#### Data exclusion / filtering\n",
    "\\\n",
    "#### Prepare data for analysis - create columns etc.\n",
    "```\n",
    "\\\n",
    "### Confirmatory analysis\n",
    "\\\n",
    "The analyses as specified in the analysis plan.  \n",
    "\\\n",
    "*Side-by-side graph with original graph is ideal here*\n",
    "\\\n",
    "###Exploratory analyses\n",
    "\\\n",
    "Any follow-up analyses desired (not required).  \n",
    "\\\n",
    "## Discussion\n",
    "\\\n",
    "### Summary of Replication Attempt\n",
    "\\\n",
    "Open the discussion section with a paragraph summarizing the primary result from the confirmatory analysis and the assessment of whether it replicated, partially replicated, or failed to replicate the original result.  \n",
    "\\\n",
    "### Commentary\n",
    "\\\n",
    "Add open-ended commentary (if any) reflecting (a) insights from follow-up exploratory analysis, (b) assessment of the meaning of the replication (or not) - e.g., for a failure to replicate, are the differences between original and present study ones that definitely, plausibly, or are unlikely to have been moderators of the result, and (c) discussion of any objections or challenges raised by the current and original authors about the replication attempt.  None of these need to be long.\n",
    "\\\n",
    "-->"
   ]
  }
 ],
 "metadata": {
  "kernelspec": {
   "name": "python3",
   "language": "python",
   "display_name": "Python 3"
  },
  "language_info": {
   "codemirror_mode": {
    "name": "ipython",
    "version": 3
   },
   "file_extension": ".py",
   "mimetype": "text/x-python",
   "name": "python",
   "nbconvert_exporter": "python",
   "pygments_lexer": "ipython3",
   "version": "3.6.8"
  },
  "pycharm": {
   "stem_cell": {
    "cell_type": "raw",
    "source": [],
    "metadata": {
     "collapsed": false
    }
   }
  }
 },
 "nbformat": 4,
 "nbformat_minor": 2
}