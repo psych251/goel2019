{
 "cells": [
  {
   "cell_type": "markdown",
   "metadata": {
    "run_control": {
     "frozen": false,
     "read_only": false
    }
   },
   "source": [
    "<!--\n",
    "---\n",
    "title: \"Replication of Study X by Sample & Sample (200x, Psychological Science)\"\n",
    "author: \"Replication Author[s] (contact information)\"\n",
    "date: \"`r format(Sys.time(), '%B %d, %Y')`\"\n",
    "output:\n",
    "  html_document:\n",
    "    toc: yes\n",
    "    toc_depth: 3\n",
    "    toc_float:\n",
    "      collapsed: false\n",
    "---\n",
    "-->\n",
    "# Replication of Experiment Data Analysis by Parades et. al. (submission to CHI 2020) #\n",
    "\n",
    "## Author: Jackie Yang (jackiey@stanford.edu) ##\n",
    "\n",
    "<!-- Replication reports should all use this template to standardize reporting across projects.  These reports will be public supplementary materials that accompany the summary report(s) of the aggregate results. -->\n",
    "\n",
    "\n"
   ]
  },
  {
   "cell_type": "markdown",
   "metadata": {
    "run_control": {
     "frozen": false,
     "read_only": false
    }
   },
   "source": [
    "## Introduction\n",
    "\n",
    "This paper is one of the first attempt at using touchpad data to predict the user's stress. This project extract muscle stiffness derived from biomechanical models of the user's movement from laptop touchpad operations while preforming predefined tasks to investigate the correlation with the user's stress. I also have a on-going project that uses deeplearning to directly infer user's stress from the trackpad data, therefore, I think it would be helpful if I can replicate their anlaysis.\n",
    "\n",
    "Since the data collection process, which requires the physical presence of the user and expensive equipment, is quite hard to replicate, and the data analysis involves complex operations (deduct parameters from biomechanical models), I will do a replication of the data processing in this paper.\n",
    "\n",
    "## Methods\n",
    "\n",
    "<!--\n",
    "###Power Analysis\n",
    "\\\n",
    "Original effect size, power analysis for samples to achieve 80%, 90%, 95% power to detect that effect size.  Considerations of feasibility for selecting planned sample size.\n",
    "\\\n",
    "###Planned Sample\n",
    "\\\n",
    "Planned sample size and/or termination rule, sampling frame, known demographics if any, preselection rules if any.\n",
    "\\\n",
    "###Materials\n",
    "\\\n",
    "All materials - can quote directly from original article - just put the text in quotations and note that this was followed precisely.  Or, quote directly and just point out exceptions to what was described in the original article.\n",
    "-->\n",
    "### Procedure\t\n",
    "\n",
    "I will not replicate this, but this is the procedure the data is gathered in the original paper:\n",
    "\n",
    "The experiment contained four distinct phases:\n",
    "+ Relaxation phase - a five minute destressor task designed to normalize the effects of external factors and to destress the participant towards baseline levels\n",
    "+ tRelaxed phase - a ten minute phase taking place immediately after the Relaxation phase. The subject performs a series of computer tasks using the laptop trackpad. Task orders within each category (clicking, dragging, steering) are fully randomized.\n",
    "+ Stressor phase - a five minute stress-inducing task.\n",
    "+ tStressed phase - a ten minute phase taking place immediately after the stressor phase. The subject performs a series of computer tasks using the laptop trackpad. Task orders within each category (clicking, dragging, steering) are fully randomized.\n",
    "To control for order effects, subjects were assigned to one of two orders of the stressed-relaxed task pairs (see Figure 3 ). The experimental groups for each protocol were balanced by gender, with 5 males and 6 females completing each protocol.\n",
    "\n",
    "![../figures/normal%20precedure.png](../figures/normal%20precedure.png)\n",
    "\n",
    "![../figures/counterbalance%20precedure.png](../figures/counterbalance%20precedure.png)\n",
    "\n",
    "### Analysis Plan\n",
    "\n",
    "I will start from the raw data collected from each experiment, including the raw trackpad data throughout the whole experiment, and a separate file recording the division of each session in the experiment.\n",
    "The trackpad file contains a time-series data with position, area of contact, the shape of contact of all the fingers in contact with the trackpad at that time.\n",
    "The other file contains the start and end timestamp of each trial and the start and end timestamp of each stressed or not stressed condition.\n",
    "\n",
    "I will perform all the data segmentation, cleaning to extract a single stream of finger events for each trial.\n",
    "From the finger events, I will perform multiple different analyses as described in the paper.\n",
    "Then I will compare the results of that analysis between different conditions and different experiments.\n",
    "I will perform all the statistical analysis and recreate all the figures in that paper.\n",
    "\n",
    "### Differences from Original Study\n",
    "\n",
    "There is no known difference from the original study.\n",
    "\n",
    "### Anticipated Challenges\n",
    "\n",
    "The largest challenge is that I'm not familiar with those bio-mechanical models, but the programming should be within my capability.\n",
    "\n",
    "## Links\n",
    "\n",
    "**Repo:** https://github.com/psych251/paredes2019/\n",
    "\n",
    "**Original Paper:** https://github.com/psych251/paredes2019/blob/wip/original_paper/paredes_2019.pdf\n"
   ]
  },
  {
   "cell_type": "markdown",
   "metadata": {
    "run_control": {
     "frozen": false,
     "read_only": false
    }
   },
   "source": [
    "## Results\n",
    "\n",
    "### Data preparation\n",
    "Data preparation following the analysis plan.\n",
    "\n",
    "Touchpad data:\n",
    "+ Associate touchpad data with corresponding experiment\n",
    "+ Separate the touch point-timestamp tuples into movements (list of consecutive touch point-timestamp tuples)\n",
    "+ Remove very short finger movements and \"static\" finger movements (movements with low variation in position over time)\n",
    "+ Run a low-pass filter on the movement data\n",
    "\n",
    "All of these is done in `/replication/preprocess/`."
   ]
  },
  {
   "cell_type": "code",
   "execution_count": 1,
   "metadata": {
    "pycharm": {
     "is_executing": false,
     "name": "#%%\n"
    },
    "run_control": {
     "frozen": false,
     "read_only": false
    }
   },
   "outputs": [],
   "source": [
    "from random import random\n",
    "from typing import Callable, Optional, List\n",
    "import pandas\n",
    "import scipy.stats\n",
    "import torch\n",
    "from matplotlib import pyplot as plt\n",
    "\n",
    "from replication.common import TaskType\n",
    "from replication.load_data import load_data\n",
    "from replication.ml.data.data_splitter import DataSplitter\n",
    "from replication.ml.data.dataset import TouchDataset\n",
    "from replication.ml.trainer.trainer import TouchTrainer\n",
    "from replication.preprocess.condition import TaskMoves\n",
    "from replication.preprocess.user import User"
   ]
  },
  {
   "cell_type": "code",
   "execution_count": 2,
   "outputs": [
    {
     "name": "stdout",
     "text": [
      "/Users/Jackie/Documents/Workspace/PhD/Coursework/PSYCH-251/goel2019/writeup\n"
     ],
     "output_type": "stream"
    }
   ],
   "source": [
    "import os\n",
    "\n",
    "print(os.getcwd())\n"
   ],
   "metadata": {
    "collapsed": false,
    "pycharm": {
     "name": "#%%\n",
     "is_executing": false
    }
   }
  },
  {
   "cell_type": "markdown",
   "source": [
    "This is the collected data from one User \"A2\"."
   ],
   "metadata": {
    "collapsed": false,
    "pycharm": {
     "name": "#%% md\n"
    }
   }
  },
  {
   "cell_type": "code",
   "execution_count": 3,
   "metadata": {
    "pycharm": {
     "is_executing": false,
     "name": "#%%\n"
    },
    "run_control": {
     "frozen": false,
     "read_only": false
    }
   },
   "outputs": [],
   "source": [
    "user_data = User(\"../original_data/data/raw_data/A2/\", \"A2\")"
   ]
  },
  {
   "cell_type": "markdown",
   "source": [
    "This is a list of tasks \"A2\" has completed."
   ],
   "metadata": {
    "collapsed": false,
    "pycharm": {
     "name": "#%% md\n"
    }
   }
  },
  {
   "cell_type": "code",
   "execution_count": 4,
   "metadata": {
    "pycharm": {
     "is_executing": false,
     "name": "#%%\n"
    },
    "run_control": {
     "frozen": false,
     "read_only": false
    }
   },
   "outputs": [
    {
     "data": {
      "text/plain": "  page_name      task_type  width  height         start        finish\n0    0.html  TaskType.DRAG    512      64  1.568229e+09  1.568229e+09\n1    1.html  TaskType.DRAG    512       8  1.568229e+09  1.568229e+09\n2    2.html  TaskType.DRAG    256      64  1.568229e+09  1.568229e+09\n3    3.html  TaskType.DRAG   1024      32  1.568229e+09  1.568229e+09\n4    4.html  TaskType.DRAG    512      64  1.568229e+09  1.568229e+09",
      "text/html": "<div>\n<style scoped>\n    .dataframe tbody tr th:only-of-type {\n        vertical-align: middle;\n    }\n\n    .dataframe tbody tr th {\n        vertical-align: top;\n    }\n\n    .dataframe thead th {\n        text-align: right;\n    }\n</style>\n<table border=\"1\" class=\"dataframe\">\n  <thead>\n    <tr style=\"text-align: right;\">\n      <th></th>\n      <th>page_name</th>\n      <th>task_type</th>\n      <th>width</th>\n      <th>height</th>\n      <th>start</th>\n      <th>finish</th>\n    </tr>\n  </thead>\n  <tbody>\n    <tr>\n      <th>0</th>\n      <td>0.html</td>\n      <td>TaskType.DRAG</td>\n      <td>512</td>\n      <td>64</td>\n      <td>1.568229e+09</td>\n      <td>1.568229e+09</td>\n    </tr>\n    <tr>\n      <th>1</th>\n      <td>1.html</td>\n      <td>TaskType.DRAG</td>\n      <td>512</td>\n      <td>8</td>\n      <td>1.568229e+09</td>\n      <td>1.568229e+09</td>\n    </tr>\n    <tr>\n      <th>2</th>\n      <td>2.html</td>\n      <td>TaskType.DRAG</td>\n      <td>256</td>\n      <td>64</td>\n      <td>1.568229e+09</td>\n      <td>1.568229e+09</td>\n    </tr>\n    <tr>\n      <th>3</th>\n      <td>3.html</td>\n      <td>TaskType.DRAG</td>\n      <td>1024</td>\n      <td>32</td>\n      <td>1.568229e+09</td>\n      <td>1.568229e+09</td>\n    </tr>\n    <tr>\n      <th>4</th>\n      <td>4.html</td>\n      <td>TaskType.DRAG</td>\n      <td>512</td>\n      <td>64</td>\n      <td>1.568229e+09</td>\n      <td>1.568229e+09</td>\n    </tr>\n  </tbody>\n</table>\n</div>"
     },
     "metadata": {},
     "output_type": "execute_result",
     "execution_count": 4
    }
   ],
   "source": [
    "tasks = pandas.DataFrame([vars(task) for task in user_data.stressed_condition.tasks], \n",
    "                         columns=[\"page_name\", \"task_type\", \"width\", \"height\", \"start\", \"finish\"])\n",
    "tasks.head()"
   ]
  },
  {
   "cell_type": "markdown",
   "source": [
    "This is the track pad data collected from the first tasks for \"A2\"."
   ],
   "metadata": {
    "collapsed": false,
    "pycharm": {
     "name": "#%% md\n"
    }
   }
  },
  {
   "cell_type": "code",
   "execution_count": 5,
   "metadata": {
    "pycharm": {
     "is_executing": false,
     "name": "#%%\n"
    },
    "run_control": {
     "frozen": false,
     "read_only": false
    }
   },
   "outputs": [
    {
     "data": {
      "text/plain": "           time  press   pos      x      y  x_speed  y_speed  major_axis  \\\n0  1.568229e+09    4.0  12.0 -31.72  -2.03     0.00     0.12        9.88   \n1  1.568229e+09    4.0   2.0  -4.24  36.63    42.38    -8.50       11.41   \n2  1.568229e+09    4.0  12.0 -31.72  -2.03     0.38     0.00        9.98   \n3  1.568229e+09    4.0   2.0  -3.90  36.56    43.12    -8.75       11.42   \n4  1.568229e+09    4.0  12.0 -31.72  -2.03    -0.12     0.00       10.05   \n\n   minor_axis  contact_area  \n0        6.99         0.867  \n1        9.06         1.062  \n2        6.99         0.871  \n3        8.96         1.062  \n4        6.99         0.871  ",
      "text/html": "<div>\n<style scoped>\n    .dataframe tbody tr th:only-of-type {\n        vertical-align: middle;\n    }\n\n    .dataframe tbody tr th {\n        vertical-align: top;\n    }\n\n    .dataframe thead th {\n        text-align: right;\n    }\n</style>\n<table border=\"1\" class=\"dataframe\">\n  <thead>\n    <tr style=\"text-align: right;\">\n      <th></th>\n      <th>time</th>\n      <th>press</th>\n      <th>pos</th>\n      <th>x</th>\n      <th>y</th>\n      <th>x_speed</th>\n      <th>y_speed</th>\n      <th>major_axis</th>\n      <th>minor_axis</th>\n      <th>contact_area</th>\n    </tr>\n  </thead>\n  <tbody>\n    <tr>\n      <th>0</th>\n      <td>1.568229e+09</td>\n      <td>4.0</td>\n      <td>12.0</td>\n      <td>-31.72</td>\n      <td>-2.03</td>\n      <td>0.00</td>\n      <td>0.12</td>\n      <td>9.88</td>\n      <td>6.99</td>\n      <td>0.867</td>\n    </tr>\n    <tr>\n      <th>1</th>\n      <td>1.568229e+09</td>\n      <td>4.0</td>\n      <td>2.0</td>\n      <td>-4.24</td>\n      <td>36.63</td>\n      <td>42.38</td>\n      <td>-8.50</td>\n      <td>11.41</td>\n      <td>9.06</td>\n      <td>1.062</td>\n    </tr>\n    <tr>\n      <th>2</th>\n      <td>1.568229e+09</td>\n      <td>4.0</td>\n      <td>12.0</td>\n      <td>-31.72</td>\n      <td>-2.03</td>\n      <td>0.38</td>\n      <td>0.00</td>\n      <td>9.98</td>\n      <td>6.99</td>\n      <td>0.871</td>\n    </tr>\n    <tr>\n      <th>3</th>\n      <td>1.568229e+09</td>\n      <td>4.0</td>\n      <td>2.0</td>\n      <td>-3.90</td>\n      <td>36.56</td>\n      <td>43.12</td>\n      <td>-8.75</td>\n      <td>11.42</td>\n      <td>8.96</td>\n      <td>1.062</td>\n    </tr>\n    <tr>\n      <th>4</th>\n      <td>1.568229e+09</td>\n      <td>4.0</td>\n      <td>12.0</td>\n      <td>-31.72</td>\n      <td>-2.03</td>\n      <td>-0.12</td>\n      <td>0.00</td>\n      <td>10.05</td>\n      <td>6.99</td>\n      <td>0.871</td>\n    </tr>\n  </tbody>\n</table>\n</div>"
     },
     "metadata": {},
     "output_type": "execute_result",
     "execution_count": 5
    }
   ],
   "source": [
    "moves = user_data.stressed_condition.tasks[0].track_pad_df\n",
    "moves.head()"
   ]
  },
  {
   "cell_type": "markdown",
   "source": [
    "This is the same task visualized in a figure (similar to Figure 5 in the original paper), \n",
    "x-axis is time and y-axis is the user's finger position on x-axis of the track pad."
   ],
   "metadata": {
    "collapsed": false,
    "pycharm": {
     "name": "#%% md\n"
    }
   }
  },
  {
   "cell_type": "code",
   "execution_count": 6,
   "metadata": {
    "pycharm": {
     "is_executing": false,
     "name": "#%%\n"
    },
    "run_control": {
     "frozen": false,
     "read_only": false
    }
   },
   "outputs": [
    {
     "data": {
      "text/plain": "<Figure size 432x288 with 1 Axes>",
      "image/png": "[encoded data removed]"
     },
     "metadata": {
      "needs_background": "light"
     },
     "output_type": "display_data"
    },
    {
     "data": {
      "text/plain": "<Figure size 432x288 with 0 Axes>"
     },
     "metadata": {},
     "output_type": "display_data"
    }
   ],
   "source": [
    "axis = plt.gca()\n",
    "user_data.stressed_condition.tasks[0].draw_moves(axis)\n",
    "plt.show()\n",
    "plt.clf()"
   ]
  },
  {
   "cell_type": "markdown",
   "metadata": {
    "run_control": {
     "frozen": false,
     "read_only": false
    }
   },
   "source": [
    "### Confirmatory analysis\n",
    "\n",
    "<!--I will run t-test on the relaxed and stressed conditions and compute Cohan's effect size (d).-->\n",
    "\n",
    "Two key finding to verify:\n",
    "\n",
    "+ \n",
    "> The mean area (a.k.a. finger pressure) during click tasks was significantly higher during the tStressed phase compared to the tRelaxed phase\n",
    "+ \n",
    "> We didn’t find any statistically significant difference for damping frequency across tRelaxed and tStressed phases.\n",
    "\n",
    "#### Mean area"
   ]
  },
  {
   "cell_type": "markdown",
   "metadata": {
    "run_control": {
     "frozen": false,
     "read_only": false
    }
   },
   "source": [
    "First load all the data."
   ]
  },
  {
   "cell_type": "code",
   "execution_count": 7,
   "metadata": {
    "pycharm": {
     "is_executing": false,
     "name": "#%%\n"
    },
    "run_control": {
     "frozen": false,
     "read_only": false
    }
   },
   "outputs": [],
   "source": [
    "users = load_data(\"../original_data/data/raw_data/\")"
   ]
  },
  {
   "cell_type": "markdown",
   "source": [
    "Here I defined a few helper function for compute any kind of statistics on this data set."
   ],
   "metadata": {
    "collapsed": false,
    "pycharm": {
     "name": "#%% md\n"
    }
   }
  },
  {
   "cell_type": "code",
   "execution_count": 8,
   "metadata": {
    "pycharm": {
     "is_executing": false,
     "name": "#%%\n"
    },
    "run_control": {
     "frozen": false,
     "read_only": false
    }
   },
   "outputs": [],
   "source": [
    "def type_task_filter(task_type: TaskType) -> Callable[[TaskMoves], bool]:\n",
    "    \"\"\"\n",
    "    Create a filter that filter out only task in a particular type\n",
    "    @param task_type: TaskType\n",
    "    @return: a filter that filter out only task in a particular type\n",
    "    \"\"\"\n",
    "    return lambda task: task.task_type == task_type\n",
    "\n",
    "def compute_stats_per_user_condition(\n",
    "        compute: Callable[[TaskMoves, int], List[float]],\n",
    "        task_filter: Optional[Callable[[TaskMoves], bool]] = None\n",
    "):\n",
    "    \"\"\"\n",
    "    Compute a statistics for every users\n",
    "    @param compute: A function to generate the statistics\n",
    "    @param task_filter: A function to filter out some undesired tasks\n",
    "    @return: A dataframe containing the statistics\n",
    "    \"\"\"\n",
    "    if task_filter is None:\n",
    "        task_filter = type_task_filter(TaskType.CLICK)\n",
    "    \n",
    "    conditions = []\n",
    "    user_ids = []\n",
    "    combined_stats = []\n",
    "    \n",
    "    for user_id, user in enumerate(users):\n",
    "        for task in user.stressed_condition.tasks:\n",
    "            if task_filter(task):\n",
    "                stats = compute(task, user_id)\n",
    "                user_ids += [user.name] * len(stats)\n",
    "                conditions += [\"stressed\"] * len(stats)\n",
    "                combined_stats += stats\n",
    "    \n",
    "        for task in user.unstressed_condition.tasks:\n",
    "            if task_filter(task):\n",
    "                stats = compute(task, user_id)\n",
    "                user_ids += [user.name] * len(stats)\n",
    "                conditions += [\"unstressed\"] * len(stats)\n",
    "                combined_stats += stats\n",
    "\n",
    "    stats_df = pandas.DataFrame(\n",
    "        {\n",
    "            \"conditions\": conditions,\n",
    "            \"user_ids\": user_ids,\n",
    "            \"stats\": combined_stats\n",
    "        }\n",
    "    ).dropna()\n",
    "    return stats_df"
   ]
  },
  {
   "cell_type": "markdown",
   "source": [
    "Here I use the helper function to compute area means for \"click\" tasks."
   ],
   "metadata": {
    "collapsed": false,
    "pycharm": {
     "name": "#%% md\n"
    }
   }
  },
  {
   "cell_type": "code",
   "execution_count": 9,
   "outputs": [],
   "source": [
    "import math\n",
    "\n",
    "def compute_area_means(task: TaskMoves, user_id: int) -> [float]:\n",
    "    \"\"\"\n",
    "    Compute the area means statistics\n",
    "    @param task: \n",
    "    @return: \n",
    "    \"\"\"\n",
    "    track_pad_df = task.track_pad_df\n",
    "    track_pad_df = track_pad_df[track_pad_df[\"press\"] != 0]\n",
    "    pressure = math.pi * track_pad_df['major_axis'] * track_pad_df['minor_axis']\n",
    "    pressure = pressure[pressure!=0]\n",
    "    return [pressure.mean()]\n",
    "\n",
    "means_df = compute_stats_per_user_condition(compute_area_means)"
   ],
   "metadata": {
    "collapsed": false,
    "pycharm": {
     "name": "#%%\n",
     "is_executing": false
    }
   }
  },
  {
   "cell_type": "markdown",
   "source": [
    "I first drew the comparision of average area for all users. (similar to Figure 9)"
   ],
   "metadata": {
    "collapsed": false,
    "pycharm": {
     "name": "#%% md\n"
    }
   }
  },
  {
   "cell_type": "code",
   "execution_count": 10,
   "outputs": [
    {
     "name": "stderr",
     "text": [
      "/usr/local/lib/python3.7/site-packages/scipy/stats/stats.py:1713: FutureWarning: Using a non-tuple sequence for multidimensional indexing is deprecated; use `arr[tuple(seq)]` instead of `arr[seq]`. In the future this will be interpreted as an array index, `arr[np.array(seq)]`, which will result either in an error or a different result.\n",
      "  return np.add.reduce(sorted[indexer] * weights, axis=axis) / sumval\n"
     ],
     "output_type": "stream"
    },
    {
     "data": {
      "text/plain": "<Figure size 432x288 with 1 Axes>",
      "image/png": "[encoded data removed]"
     },
     "metadata": {
      "needs_background": "light"
     },
     "output_type": "display_data"
    }
   ],
   "source": [
    "import seaborn as sns\n",
    "import matplotlib.pyplot as plt\n",
    "\n",
    "plot = sns.barplot(x='conditions', y='stats', data=means_df)\n",
    "plt.savefig(\"means_all.png\")"
   ],
   "metadata": {
    "collapsed": false,
    "pycharm": {
     "name": "#%%\n",
     "is_executing": false
    }
   }
  },
  {
   "cell_type": "markdown",
   "source": [
    "For reference, this is Figure 9 in the original paper.\n",
    "![../figures/aa.png](../figures/aa.png)"
   ],
   "metadata": {
    "collapsed": false
   }
  },
  {
   "cell_type": "markdown",
   "source": [
    "I ran a t-test on this data."
   ],
   "metadata": {
    "collapsed": false
   }
  },
  {
   "cell_type": "code",
   "execution_count": 11,
   "outputs": [
    {
     "name": "stdout",
     "text": [
      "d = 0.35775241864278773, p = 3.541863388950718e-11\n"
     ],
     "output_type": "stream"
    }
   ],
   "source": [
    "means_ttest = scipy.stats.ttest_ind(\n",
    "    means_df[means_df.conditions == 'stressed'].stats, \n",
    "    means_df[means_df.conditions == 'unstressed'].stats\n",
    ")\n",
    "\n",
    "def compute_d(df):\n",
    "    var = pandas.concat(\n",
    "        (\n",
    "            df[df.conditions == 'stressed'].stats, \n",
    "            df[df.conditions == 'unstressed'].stats\n",
    "        )\n",
    "    ).std()\n",
    "    mean = \\\n",
    "        df[df.conditions == 'stressed'].stats.mean() - \\\n",
    "        df[df.conditions == 'unstressed'].stats.mean()\n",
    "    return mean / var\n",
    "\n",
    "print(f\"d = {compute_d(means_df)}, p = {means_ttest.pvalue}\")"
   ],
   "metadata": {
    "collapsed": false,
    "pycharm": {
     "name": "#%%\n",
     "is_executing": false
    }
   }
  },
  {
   "cell_type": "markdown",
   "source": [
    "I then drew the comparision of average area for each individual users. (similar to Figure 10)"
   ],
   "metadata": {
    "collapsed": false,
    "pycharm": {
     "name": "#%% md\n"
    }
   }
  },
  {
   "cell_type": "code",
   "execution_count": 12,
   "outputs": [
    {
     "data": {
      "text/plain": "<Figure size 720x216 with 1 Axes>",
      "image/png": "[encoded data removed]"
     },
     "metadata": {},
     "output_type": "display_data"
    }
   ],
   "source": [
    "sns.set()\n",
    "plt.figure(figsize=(10, 3))\n",
    "sns.barplot(\n",
    "    x='user_ids', \n",
    "    y='stats', \n",
    "    hue='conditions', \n",
    "    data=means_df, \n",
    "    order=sorted(means_df.user_ids.unique()),\n",
    "    hue_order=[\"unstressed\", \"stressed\"]\n",
    ")\n",
    "plt.savefig(\"means.png\")"
   ],
   "metadata": {
    "collapsed": false,
    "pycharm": {
     "name": "#%%\n",
     "is_executing": false
    }
   }
  },
  {
   "cell_type": "markdown",
   "source": [
    "For reference, this is Figure 10 in the original paper.\n",
    "![../figures/aa.png](../figures/fp.png)"
   ],
   "metadata": {
    "collapsed": false,
    "pycharm": {
     "name": "#%% md\n"
    }
   }
  },
  {
   "cell_type": "markdown",
   "source": [
    "#### Dumping frequency\n",
    "\n",
    "Here I use the helper function to compute area means for damping frequency."
   ],
   "metadata": {
    "collapsed": false
   }
  },
  {
   "cell_type": "code",
   "execution_count": 14,
   "outputs": [],
   "source": [
    "import librosa\n",
    "import numpy as np\n",
    "\n",
    "\n",
    "def compute_damping_frequency(task: TaskMoves, user_id: int) -> [float]:\n",
    "    idf = task.individual_track_pad_df\n",
    "    damping_frequency = []\n",
    "    for i in idf.stroke.unique():\n",
    "        try: \n",
    "            a = librosa.core.lpc(idf[idf.stroke==i].x.to_numpy(), 3)\n",
    "        except FloatingPointError:\n",
    "            continue\n",
    "        try:\n",
    "            c_a = np.roots(a)[0] # conjuate\n",
    "        except LinAlgError:\n",
    "            continue\n",
    "        w = abs(c_a.imag)\n",
    "        r = c_a.real / abs(c_a)\n",
    "        damping_frequency += [w]\n",
    "    return damping_frequency\n",
    "\n",
    "damping_frequency_df = compute_stats_per_user_condition(compute_damping_frequency)\n"
   ],
   "metadata": {
    "collapsed": false,
    "pycharm": {
     "name": "#%%\n",
     "is_executing": false
    }
   }
  },
  {
   "cell_type": "markdown",
   "source": [
    "I first drew the comparision of damping frequency for all users."
   ],
   "metadata": {
    "collapsed": false
   }
  },
  {
   "cell_type": "code",
   "execution_count": 15,
   "outputs": [
    {
     "name": "stderr",
     "text": [
      "/usr/local/lib/python3.7/site-packages/scipy/stats/stats.py:1713: FutureWarning: Using a non-tuple sequence for multidimensional indexing is deprecated; use `arr[tuple(seq)]` instead of `arr[seq]`. In the future this will be interpreted as an array index, `arr[np.array(seq)]`, which will result either in an error or a different result.\n",
      "  return np.add.reduce(sorted[indexer] * weights, axis=axis) / sumval\n"
     ],
     "output_type": "stream"
    },
    {
     "data": {
      "text/plain": "<Figure size 432x288 with 1 Axes>",
      "image/png": "[encoded data removed]"
     },
     "metadata": {},
     "output_type": "display_data"
    }
   ],
   "source": [
    "plot = sns.barplot(x='conditions', y='stats', data=damping_frequency_df, order=[\"unstressed\", \"stressed\"])\n",
    "plt.savefig(\"damping_frequency_all.png\")\n"
   ],
   "metadata": {
    "collapsed": false,
    "pycharm": {
     "name": "#%%\n",
     "is_executing": false
    }
   }
  },
  {
   "cell_type": "markdown",
   "source": [
    "I ran a t-test on this data."
   ],
   "metadata": {
    "collapsed": false
   }
  },
  {
   "cell_type": "code",
   "execution_count": 16,
   "outputs": [
    {
     "name": "stdout",
     "text": [
      "d = 0.10180049294177111, p = 0.0018101735445493418\n"
     ],
     "output_type": "stream"
    }
   ],
   "source": [
    "damping_frequency_ttest = scipy.stats.ttest_ind(\n",
    "    damping_frequency_df[damping_frequency_df.conditions == 'stressed'].stats, \n",
    "    damping_frequency_df[damping_frequency_df.conditions == 'unstressed'].stats\n",
    ")\n",
    "\n",
    "print(f\"d = {compute_d(damping_frequency_df)}, p = {damping_frequency_ttest.pvalue}\")\n"
   ],
   "metadata": {
    "collapsed": false,
    "pycharm": {
     "name": "#%%\n",
     "is_executing": false
    }
   }
  },
  {
   "cell_type": "markdown",
   "source": [
    "I then drew the comparision of average area for each individual users. (similar to Figure 10)"
   ],
   "metadata": {
    "collapsed": false,
    "pycharm": {
     "name": "#%% md\n"
    }
   }
  },
  {
   "cell_type": "code",
   "execution_count": 17,
   "outputs": [
    {
     "data": {
      "text/plain": "<Figure size 720x216 with 1 Axes>",
      "image/png": "[encoded data removed]"
     },
     "metadata": {},
     "output_type": "display_data"
    }
   ],
   "source": [
    "import seaborn as sns\n",
    "import matplotlib.pyplot as plt\n",
    "\n",
    "sns.set()\n",
    "plt.figure(figsize=(10, 3))\n",
    "sns.barplot(\n",
    "    x='user_ids', \n",
    "    y='stats', \n",
    "    hue='conditions', \n",
    "    data=damping_frequency_df, \n",
    "    order=sorted(damping_frequency_df.user_ids.unique()),\n",
    "    hue_order=[\"unstressed\", \"stressed\"]\n",
    ")\n",
    "plt.savefig(\"damping_frequency.png\")"
   ],
   "metadata": {
    "collapsed": false,
    "pycharm": {
     "name": "#%%\n",
     "is_executing": false
    }
   }
  },
  {
   "cell_type": "markdown",
   "source": [
    "### Exploratory analyses\n",
    "\n",
    "I tried to use a CNN-LSTM model to automatically predict whether a trackpad trace in one task is in stressed condition or in unstressed condition.\n",
    "I trained this model with a leave-one-user-out fashion. (see `replication/ml/main.py` for more details).\n",
    "The model's prediction accuracy can reach 61.8%."
   ],
   "metadata": {
    "collapsed": false,
    "pycharm": {
     "name": "#%% md\n"
    }
   }
  },
  {
   "cell_type": "markdown",
   "source": [
    "## Discussion\n",
    "\n",
    "### Summary of Replication Attempt\n",
    "\n",
    "1. I found similar effects on average area\n",
    "\n",
    "2. I found significant result for damping frequency, which is different than the original paper.\n",
    "\n",
    "I contacted the authors about #2, \n",
    "and it seesms that the discrepancy is due to slight difference in the preprocess phase.\n",
    "They recently have also tried different way to clean the data in preprocess phase,\n",
    "and they also find a significant effect for damping frequency when the data is cleaned differently.\n",
    "\n",
    "### Commentary\n",
    "\n",
    "In general, the replication is a success. \n",
    "It seems that different ways to clean the data in the pre-processing stage may affect the result significantly.\n",
    "\n",
    "Specifically, I have removed very short trackpad segments \n",
    "and have a lower time threshold when break the original captured traces into segments for LPC analysis.\n",
    "It seems that those processing have made my analysis on damping frequency different than the original paper."
   ],
   "metadata": {
    "collapsed": false,
    "pycharm": {
     "name": "#%% md\n"
    }
   }
  },
  {
   "cell_type": "markdown",
   "source": [
    "\n",
    "<!--\n",
    "\\\n",
    "### Methods Addendum (Post Data Collection)\n",
    "\\\n",
    "You can comment this section out prior to final report with data collection.\n",
    "\\\n",
    "#### Actual Sample\n",
    "  Sample size, demographics, data exclusions based on rules spelled out in analysis plan\n",
    "\\\n",
    "#### Differences from pre-data collection methods plan\n",
    "  Any differences from what was described as the original plan, or “none”.\n",
    "\\\n",
    "\\\n",
    "##Results\n",
    "\\\n",
    "\\\n",
    "### Data preparation\n",
    "\\\n",
    "Data preparation following the analysis plan.\n",
    "\t\\\n",
    "```{r include=F}\n",
    "###Data Preparation\n",
    "\\\n",
    "####Load Relevant Libraries and Functions\n",
    "\\\n",
    "####Import data\n",
    "\\\n",
    "#### Data exclusion / filtering\n",
    "\\\n",
    "#### Prepare data for analysis - create columns etc.\n",
    "```\n",
    "\\\n",
    "### Confirmatory analysis\n",
    "\\\n",
    "The analyses as specified in the analysis plan.  \n",
    "\\\n",
    "*Side-by-side graph with original graph is ideal here*\n",
    "\\\n",
    "###Exploratory analyses\n",
    "\\\n",
    "Any follow-up analyses desired (not required).  \n",
    "\\\n",
    "## Discussion\n",
    "\\\n",
    "### Summary of Replication Attempt\n",
    "\\\n",
    "Open the discussion section with a paragraph summarizing the primary result from the confirmatory analysis and the assessment of whether it replicated, partially replicated, or failed to replicate the original result.  \n",
    "\\\n",
    "### Commentary\n",
    "\\\n",
    "Add open-ended commentary (if any) reflecting (a) insights from follow-up exploratory analysis, (b) assessment of the meaning of the replication (or not) - e.g., for a failure to replicate, are the differences between original and present study ones that definitely, plausibly, or are unlikely to have been moderators of the result, and (c) discussion of any objections or challenges raised by the current and original authors about the replication attempt.  None of these need to be long.\n",
    "\\\n",
    "-->"
   ],
   "metadata": {
    "collapsed": false
   }
  }
 ],
 "metadata": {
  "celltoolbar": "Edit Metadata",
  "kernelspec": {
   "display_name": "Python 3",
   "language": "python",
   "name": "python3"
  },
  "language_info": {
   "codemirror_mode": {
    "name": "ipython",
    "version": 3
   },
   "file_extension": ".py",
   "mimetype": "text/x-python",
   "name": "python",
   "nbconvert_exporter": "python",
   "pygments_lexer": "ipython3",
   "version": "3.7.5"
  },
  "pycharm": {
   "stem_cell": {
    "cell_type": "raw",
    "source": [],
    "metadata": {
     "collapsed": false
    }
   }
  }
 },
 "nbformat": 4,
 "nbformat_minor": 2
}